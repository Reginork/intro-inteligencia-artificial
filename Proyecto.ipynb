{
  "cells": [
    {
      "cell_type": "markdown",
      "metadata": {
        "id": "3YugyJJd0P4o"
      },
      "source": [
        "# Primera entrega"
      ]
    },
    {
      "cell_type": "markdown",
      "metadata": {
        "id": "w2XJvhtG_5Nv"
      },
      "source": [
        "## Contexto de la aplicación"
      ]
    },
    {
      "cell_type": "markdown",
      "metadata": {
        "id": "gSJ3uSPL0Cho"
      },
      "source": [
        "Nuestra aplicación o desarrollo consistirá en un sistema de clasificación multiclase de imágenes del Alfabeto del lenguaje de Señas inglés, es decir, contamos con 27 clases diferentes (uno por cada letra) numeradas (etiquetadas) del 0 al 26, donde el 0 es una etiqueta vacía, el 1 sería el índice correspondiente a la letra A mientras que el 26 sería el correspondiente a la letra Z.\n",
        "\n",
        "Es decir, el sistema será capaz de predecir la seña correspondiente a cada letra, individualmente, más no el lenguaje como tal, la analogía correcta sería por ejemplo que hay varios idiomas que comparten el mismo alfabeto o gran parte del mismo, pero las palabras son distintas, en este caso, buscamos clasificar cada elemento del alfabeto de señas, es decir, cada letra o dicho en otras palabras “la representación de cada letra en el alfabeto del lenguaje de señas” más no las palabras de dicho lenguaje.\n",
        "\n",
        "Las aplicaciones o usos que puede llegar a tener este sistema de clasificación son bastante amplios, puede permitir a las personas aprender o educarse en lo que respecta a este lenguaje como también facilitar la comunicación entre las personas, en términos pueden haber buenos beneficios.\n"
      ]
    },
    {
      "cell_type": "markdown",
      "metadata": {
        "id": "s6s_2A9S0OCe"
      },
      "source": [
        "## Objetivo de machine learning"
      ]
    },
    {
      "cell_type": "markdown",
      "metadata": {
        "id": "-ibeE4vQ1K8x"
      },
      "source": [
        "Como se ha venido comentando, contamos con un conjunto de fotos de manos de $28\\times28$ píxeles (784 características), donde en cada imagen hay una mano realizando una posición del alfabeto del lenguaje de señas inglés (Difiere en el español prácticamente en la ausencia de la letra \"ñ\"), cada imagen está etiquetada con un número que varía entre 0 y 26 (Que es el índice de la letra a la que corresponde la posición excepto 0). \n",
        "Dada una imagen de una mano haciendo una letra del alfabeto del lenguaje de señas inglés, queremos clasificarla en alguna de las letras del alfabeto inglés (Proyecto que podría extenderse para conseguir imágenes de la letra ñ para países hispanohablantes).\n",
        "\n",
        "\n"
      ]
    },
    {
      "cell_type": "markdown",
      "metadata": {
        "id": "q7RQntDp0zii"
      },
      "source": [
        "## Descripción del dataset"
      ]
    },
    {
      "cell_type": "markdown",
      "metadata": {
        "id": "J8QgKa898eJj"
      },
      "source": [
        "Cada característica (Columna) es de tipo int64 con el siguiente rango: $[0,255]$.\n",
        "Este dataset se encuentra dividido por defecto en dos subconjuntos: Entrenamiento y Test, los subconjuntos tienen 12844 y 4267 muestras respectivamente.\n",
        "El dataset completo tiene un tamaño en disco de 49.5 MB.\n",
        "La cantidad de muestras por clase es bastante balanceada, puesto que todas están en el rango $(600,700)$, además se puede evidenciar en el histograma.\n",
        "![hist.png](data:image/png;base64,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)\n"
      ]
    },
    {
      "cell_type": "markdown",
      "metadata": {
        "id": "By5dGObT1AJe"
      },
      "source": [
        "## Métricas de desempeño (de machine learning y negocio)"
      ]
    },
    {
      "cell_type": "markdown",
      "metadata": {
        "id": "w8r5e0_-9KS1"
      },
      "source": [
        "Se usará la matriz de confusión normalizada para hacer un análisis sobre qué tan bien está clasificando un modelo, y ver con qué clases puede estar confundiéndose a la hora de clasificar.\n",
        "Como medida global se usará la exactitud (Accuracy) sobre cada una de las clases, sin embargo se estudiará más a profundidad cada clase con la sensibilidad (Recall) y la precisión (Positive Predictive Value)."
      ]
    },
    {
      "cell_type": "markdown",
      "metadata": {
        "id": "MgoNmqC81DpO"
      },
      "source": [
        "## Referencias y resultados previos"
      ]
    },
    {
      "cell_type": "markdown",
      "metadata": {
        "id": "dxq8vRQH9O8N"
      },
      "source": [
        "* Curso de Fundamentos de Deep Learning (UdeA) del profesor Raúl Ramos Pollán: https://rramosp.github.io/2021.deeplearning/content/M02.html \n",
        "* C. Bishop, Pattern Recognition and Machine Learning\n",
        "* Haykin, S. S., Haykin, S. S., Haykin, S. S., & Haykin, S. S. (2009). Neural networks and learning machines (Vol. 3). Upper Saddle River, NJ, USA:: Pearson."
      ]
    },
    {
      "cell_type": "markdown",
      "metadata": {
        "id": "MOjujXSK0Xq1"
      },
      "source": [
        "# Segunda entrega"
      ]
    },
    {
      "cell_type": "markdown",
      "metadata": {
        "id": "MDqWJLSq58x9"
      },
      "source": [
        "## Importación de las librerías a usar"
      ]
    },
    {
      "cell_type": "code",
      "execution_count": null,
      "metadata": {
        "id": "o0T3KR8-55n2",
        "colab": {
          "base_uri": "https://localhost:8080/"
        },
        "outputId": "54e9159e-7ba0-4c6f-bbd9-90afd8f214c0"
      },
      "outputs": [
        {
          "output_type": "stream",
          "name": "stdout",
          "text": [
            "The tensorboard extension is already loaded. To reload it, use:\n",
            "  %reload_ext tensorboard\n"
          ]
        }
      ],
      "source": [
        "# Generación del alfabeto inglés\n",
        "import string\n",
        "alphabet = list(string.ascii_uppercase)\n",
        "alphabet = ['!'] + alphabet\n",
        "\n",
        "# Análisis exploratorio y estructura de la información\n",
        "import numpy as np\n",
        "import pandas as pd\n",
        "import matplotlib.pyplot as plt\n",
        "import seaborn as sns\n",
        "from sklearn.preprocessing import MinMaxScaler\n",
        "from itertools import product\n",
        "\n",
        "# Métricas de error y metodología de validación\n",
        "from sklearn.metrics import confusion_matrix, recall_score, precision_score, accuracy_score, ConfusionMatrixDisplay\n",
        "from sklearn.model_selection import KFold, train_test_split\n",
        "\n",
        "# Para embellecer las gráficas\n",
        "sns.set()\n",
        "\n",
        "\n",
        "import tensorflow as tf\n",
        "%matplotlib inline\n",
        "%load_ext tensorboard\n",
        "\n",
        "# from sklearn.datasets import *\n",
        "# from local.lib import mlutils\n",
        "# tf.__version__"
      ]
    },
    {
      "cell_type": "markdown",
      "metadata": {
        "id": "qj5hTsxl6rY8"
      },
      "source": [
        "# Lectura y exploración del dataset"
      ]
    },
    {
      "cell_type": "markdown",
      "metadata": {
        "id": "uYJT5_kccAu-"
      },
      "source": [
        "## Dataset para entrenamiento"
      ]
    },
    {
      "cell_type": "code",
      "execution_count": null,
      "metadata": {
        "id": "EMBQKLzT6N3t"
      },
      "outputs": [],
      "source": [
        "df_train = pd.read_csv ('https://drive.google.com/uc?id=1NuWgW9m4n7lzNATu54eBEiFFsZYZ9AFU&export=download')"
      ]
    },
    {
      "cell_type": "code",
      "execution_count": null,
      "metadata": {
        "id": "-AgHYkNCbU_R"
      },
      "outputs": [],
      "source": [
        "X_train = df_train.iloc[:,:-1]\n",
        "y_train = df_train.iloc[:,-1]"
      ]
    },
    {
      "cell_type": "code",
      "execution_count": null,
      "metadata": {
        "colab": {
          "base_uri": "https://localhost:8080/"
        },
        "id": "uNOFGG6CYHp-",
        "outputId": "bf0c7226-48f1-4712-cbca-84d0c32ad13a"
      },
      "outputs": [
        {
          "output_type": "execute_result",
          "data": {
            "text/plain": [
              "array([[255, 255, 255, 255, 255, 255, 255, 255, 255, 255, 255, 255, 255,\n",
              "        255, 255, 255, 255, 255, 255, 255, 255, 255, 255, 255, 255, 255,\n",
              "        255, 255],\n",
              "       [255, 255, 255, 255, 255, 255, 255, 255, 255, 255, 255, 255, 255,\n",
              "        255, 255, 255, 255,   7,   1, 255, 255, 255, 255, 255, 255, 255,\n",
              "        255, 255],\n",
              "       [255, 255, 255, 255, 255, 255, 255, 255, 255, 255, 255, 255, 255,\n",
              "        255, 254, 254, 208, 254, 254, 254, 255, 255, 255, 255, 255, 255,\n",
              "        255, 255],\n",
              "       [255, 255, 255, 255, 255, 255, 255, 255, 255, 255, 255, 255, 255,\n",
              "        255, 255, 254,  46, 255, 253, 254,   1, 255, 255, 255, 255, 255,\n",
              "        255, 255],\n",
              "       [255, 255, 255, 255, 255, 255, 255, 255, 255, 255, 255, 255, 255,\n",
              "        254, 254, 255, 255,   1,   0, 255, 118, 255, 255, 255, 255, 255,\n",
              "        255, 255],\n",
              "       [255, 255, 255, 255, 255, 255, 255, 255, 255, 255, 255, 255, 255,\n",
              "          0, 255,   1, 253, 255,   1, 255, 254, 255, 255, 255, 255, 255,\n",
              "        255, 255],\n",
              "       [255, 255, 255, 255, 255, 255, 255, 255, 255, 255, 255, 255, 254,\n",
              "        254, 254,  13, 255, 254, 254, 255,   1, 254, 255, 255, 255, 255,\n",
              "        255, 255],\n",
              "       [255, 255, 255, 255, 255, 255, 255, 255, 255, 255, 255, 255,  28,\n",
              "        255, 253, 254,   0, 255, 255, 254, 118, 255, 255, 255, 255, 255,\n",
              "        255, 255],\n",
              "       [255, 255, 255, 255, 255, 255, 255, 255, 255, 255, 255, 255, 138,\n",
              "        254, 254, 253, 254,   0, 149, 254, 254, 254, 255, 255, 255, 255,\n",
              "        255, 255],\n",
              "       [255, 255, 255, 255, 255, 255, 255, 255, 255, 255, 255, 255, 255,\n",
              "          9,   0, 255, 255,   2, 255, 255, 255, 255, 255, 255, 255, 255,\n",
              "        255, 255],\n",
              "       [255, 255, 255, 255, 255, 255, 255, 255, 255, 255, 255, 254, 255,\n",
              "        254,   0, 255, 255, 254, 255, 254, 254, 255, 255, 255, 255, 255,\n",
              "        255, 255],\n",
              "       [255, 255, 255, 255, 255, 255, 255, 255, 255, 255, 255,   1, 255,\n",
              "        255,   8,   0, 254, 255, 255,   1, 254, 255, 255, 255, 255, 255,\n",
              "        255, 255],\n",
              "       [255, 255, 255, 255, 255, 255, 255, 255, 255, 255, 255,   0,   2,\n",
              "          2, 228, 255, 255,   0,  73, 100, 255, 254, 255, 255, 255, 255,\n",
              "        255, 255],\n",
              "       [255, 255, 255, 255, 255, 255, 255, 255, 255, 255, 252, 254,  36,\n",
              "        255, 255,   0,   1,   0,   3, 148, 255, 255, 255, 255, 255, 255,\n",
              "        255, 255],\n",
              "       [255, 255, 255, 255, 255, 255, 255, 255, 255, 255,   0, 254, 255,\n",
              "        255, 255, 255, 255, 253, 254, 255, 255, 255, 255, 255, 255, 253,\n",
              "        255, 255],\n",
              "       [255, 255, 255, 255, 255, 255, 255, 255, 255, 255,   4,   1, 255,\n",
              "        255,   3, 252, 255, 227,   1, 255, 255, 255, 255, 255, 255, 255,\n",
              "        255, 255],\n",
              "       [255, 255, 255, 255, 255, 255, 255, 255, 255, 255,   0, 254, 255,\n",
              "          2, 254, 213, 209, 255, 255, 255, 255, 255, 255, 255, 255, 255,\n",
              "        255, 255],\n",
              "       [255, 255, 255, 255, 255, 255, 255, 255, 255, 255,   0, 255, 255,\n",
              "        255,  71, 255,   3, 254,   1,   0,   1, 191, 255, 255, 255, 255,\n",
              "        255, 255],\n",
              "       [255, 255, 255, 255, 255, 255, 255, 255, 255, 254,   1, 255, 254,\n",
              "        255, 255, 255, 255, 211, 173, 255, 255, 255, 255, 255, 255, 255,\n",
              "        255, 255],\n",
              "       [255, 255, 255, 255, 255, 255, 255, 255, 255, 255,   2, 254, 255,\n",
              "        255, 255, 254, 253, 255, 255, 254, 255, 255, 255, 255, 255, 255,\n",
              "        255, 255],\n",
              "       [255, 255, 255, 255, 255, 255, 255, 255, 255, 255,   0, 142, 255,\n",
              "        255, 255, 255,  26,  65, 255, 255, 255, 254, 255, 255, 255, 255,\n",
              "        255, 255],\n",
              "       [255, 255, 255, 255, 255, 255, 255, 255, 255, 255, 254, 254, 255,\n",
              "        255, 255, 255, 208, 254, 255, 255, 255, 255, 255, 255, 255, 255,\n",
              "        255, 255],\n",
              "       [255, 255, 255, 255, 255, 255, 255, 255, 255, 255, 255, 254, 255,\n",
              "        255, 255, 255, 255, 255, 186, 255, 255,   1, 255, 255, 255, 255,\n",
              "        255, 255],\n",
              "       [255, 255, 255, 255, 255, 255, 255, 255, 255, 255, 255,   2, 255,\n",
              "        255, 255, 255, 255, 255, 255, 173, 216,   0, 255, 255, 255, 255,\n",
              "        255, 255],\n",
              "       [255, 255, 255, 255, 255, 255, 255, 255, 255, 255, 255,   1, 255,\n",
              "        254, 255, 255, 255, 254, 255, 255, 255, 136, 255, 255, 255, 255,\n",
              "        255, 255],\n",
              "       [255, 255, 255, 255, 255, 255, 255, 255, 255, 255, 255, 255, 255,\n",
              "        255, 255, 254, 255, 255, 255, 255, 254, 254, 255, 255, 255, 255,\n",
              "        255, 255],\n",
              "       [255, 255, 255, 255, 255, 255, 255, 255, 255, 255, 255, 255,   2,\n",
              "        255, 253, 254, 255, 255, 255, 255, 133, 253, 255, 255, 255, 255,\n",
              "        255, 255],\n",
              "       [255, 255, 255, 255, 255, 255, 255, 255, 255, 255, 255, 255,   0,\n",
              "        255, 255, 254, 255, 255,   0,   0,   0, 255, 255, 255, 255, 255,\n",
              "        255, 255]])"
            ]
          },
          "metadata": {},
          "execution_count": 27
        }
      ],
      "source": [
        "np.array(X_train.iloc[1000]).reshape(28,28)"
      ]
    },
    {
      "cell_type": "code",
      "execution_count": null,
      "metadata": {
        "colab": {
          "base_uri": "https://localhost:8080/",
          "height": 434
        },
        "id": "ixaj9_9oX2cA",
        "outputId": "11c5767a-0dbd-4994-8198-6a33cb9e5032"
      },
      "outputs": [
        {
          "output_type": "display_data",
          "data": {
            "text/plain": [
              "<Figure size 640x480 with 1 Axes>"
            ],
            "image/png": "[encoded data removed]"
          },
          "metadata": {}
        }
      ],
      "source": [
        "plt.imshow(np.array(X_train.iloc[1000]).reshape((28,28)), cmap=\"binary\")\n",
        "plt.show()"
      ]
    },
    {
      "cell_type": "markdown",
      "metadata": {
        "id": "hQ4b2-4jcEcc"
      },
      "source": [
        "## Dataset para test"
      ]
    },
    {
      "cell_type": "code",
      "execution_count": null,
      "metadata": {
        "id": "PQ_U0WlZscD0"
      },
      "outputs": [],
      "source": [
        "df_test = pd.read_csv ('https://drive.google.com/uc?id=1ZLuVmov0_mU83LBWxtXvYwPWxh5FfIEc&export=download')"
      ]
    },
    {
      "cell_type": "code",
      "execution_count": null,
      "metadata": {
        "id": "138s_EI9cIic"
      },
      "outputs": [],
      "source": [
        "X_test = df_test.iloc[:,:-1]\n",
        "y_test = df_test.iloc[:,-1]"
      ]
    },
    {
      "cell_type": "markdown",
      "metadata": {
        "id": "-4mQhWrBccTO"
      },
      "source": [
        "## Análisis de los dataset unidos"
      ]
    },
    {
      "cell_type": "code",
      "execution_count": null,
      "metadata": {
        "colab": {
          "base_uri": "https://localhost:8080/",
          "height": 487
        },
        "id": "m_2-AbSYOmp8",
        "outputId": "3e5d9471-75ff-4f9c-e5ad-005729d43817"
      },
      "outputs": [
        {
          "output_type": "execute_result",
          "data": {
            "text/plain": [
              "      pixel_0  pixel_1  pixel_2  pixel_3  pixel_4  pixel_5  pixel_6  pixel_7  \\\n",
              "0         255      255      255      255      255      255      255      255   \n",
              "1         255      255      255      255      255      255      255      255   \n",
              "2         255      255      255      255      255      255      255      255   \n",
              "3         255      255      255      255      255      255      255      255   \n",
              "4         255      255      255      255      255      255      255      255   \n",
              "...       ...      ...      ...      ...      ...      ...      ...      ...   \n",
              "4262      255      255      255      255      255      255      255      255   \n",
              "4263      255      255      255      255      255      255      255      255   \n",
              "4264      255      255      255      255      255      255      255      255   \n",
              "4265      255      255      255      252      255      255      255      255   \n",
              "4266      255      255      255      255      255      255      255      255   \n",
              "\n",
              "      pixel_8  pixel_9  ...  pixel_775  pixel_776  pixel_777  pixel_778  \\\n",
              "0         255      255  ...        255        255        255        255   \n",
              "1         255      255  ...        255        255        255        255   \n",
              "2         255      255  ...        255        255        255        255   \n",
              "3         255      255  ...        255        255        255        255   \n",
              "4         255      255  ...        255        255        255        255   \n",
              "...       ...      ...  ...        ...        ...        ...        ...   \n",
              "4262      255      255  ...        255        255        255        255   \n",
              "4263      255      255  ...        255        255        255        255   \n",
              "4264      255      255  ...        255        255        255        255   \n",
              "4265      255      255  ...        255        255        255        255   \n",
              "4266      255      255  ...        255        255        255        255   \n",
              "\n",
              "      pixel_779  pixel_780  pixel_781  pixel_782  pixel_783  label  \n",
              "0           255        255        255        255        255      0  \n",
              "1           255        255        255        255        255      0  \n",
              "2           255        255        255        255        255      0  \n",
              "3           255        255        255        255        255      0  \n",
              "4           255        255        255        255        255      0  \n",
              "...         ...        ...        ...        ...        ...    ...  \n",
              "4262        255        255        255        255        255     26  \n",
              "4263        255        255        255        255        255     26  \n",
              "4264        255        255        255        255        255     26  \n",
              "4265        255        255        255        255        255     26  \n",
              "4266        255        255        255        255        255     26  \n",
              "\n",
              "[17111 rows x 785 columns]"
            ],
            "text/html": [
              "\n",
              "  <div id=\"df-35974e22-dc21-4dc4-808e-0e8ad81b2bf2\">\n",
              "    <div class=\"colab-df-container\">\n",
              "      <div>\n",
              "<style scoped>\n",
              "    .dataframe tbody tr th:only-of-type {\n",
              "        vertical-align: middle;\n",
              "    }\n",
              "\n",
              "    .dataframe tbody tr th {\n",
              "        vertical-align: top;\n",
              "    }\n",
              "\n",
              "    .dataframe thead th {\n",
              "        text-align: right;\n",
              "    }\n",
              "</style>\n",
              "<table border=\"1\" class=\"dataframe\">\n",
              "  <thead>\n",
              "    <tr style=\"text-align: right;\">\n",
              "      <th></th>\n",
              "      <th>pixel_0</th>\n",
              "      <th>pixel_1</th>\n",
              "      <th>pixel_2</th>\n",
              "      <th>pixel_3</th>\n",
              "      <th>pixel_4</th>\n",
              "      <th>pixel_5</th>\n",
              "      <th>pixel_6</th>\n",
              "      <th>pixel_7</th>\n",
              "      <th>pixel_8</th>\n",
              "      <th>pixel_9</th>\n",
              "      <th>...</th>\n",
              "      <th>pixel_775</th>\n",
              "      <th>pixel_776</th>\n",
              "      <th>pixel_777</th>\n",
              "      <th>pixel_778</th>\n",
              "      <th>pixel_779</th>\n",
              "      <th>pixel_780</th>\n",
              "      <th>pixel_781</th>\n",
              "      <th>pixel_782</th>\n",
              "      <th>pixel_783</th>\n",
              "      <th>label</th>\n",
              "    </tr>\n",
              "  </thead>\n",
              "  <tbody>\n",
              "    <tr>\n",
              "      <th>0</th>\n",
              "      <td>255</td>\n",
              "      <td>255</td>\n",
              "      <td>255</td>\n",
              "      <td>255</td>\n",
              "      <td>255</td>\n",
              "      <td>255</td>\n",
              "      <td>255</td>\n",
              "      <td>255</td>\n",
              "      <td>255</td>\n",
              "      <td>255</td>\n",
              "      <td>...</td>\n",
              "      <td>255</td>\n",
              "      <td>255</td>\n",
              "      <td>255</td>\n",
              "      <td>255</td>\n",
              "      <td>255</td>\n",
              "      <td>255</td>\n",
              "      <td>255</td>\n",
              "      <td>255</td>\n",
              "      <td>255</td>\n",
              "      <td>0</td>\n",
              "    </tr>\n",
              "    <tr>\n",
              "      <th>1</th>\n",
              "      <td>255</td>\n",
              "      <td>255</td>\n",
              "      <td>255</td>\n",
              "      <td>255</td>\n",
              "      <td>255</td>\n",
              "      <td>255</td>\n",
              "      <td>255</td>\n",
              "      <td>255</td>\n",
              "      <td>255</td>\n",
              "      <td>255</td>\n",
              "      <td>...</td>\n",
              "      <td>255</td>\n",
              "      <td>255</td>\n",
              "      <td>255</td>\n",
              "      <td>255</td>\n",
              "      <td>255</td>\n",
              "      <td>255</td>\n",
              "      <td>255</td>\n",
              "      <td>255</td>\n",
              "      <td>255</td>\n",
              "      <td>0</td>\n",
              "    </tr>\n",
              "    <tr>\n",
              "      <th>2</th>\n",
              "      <td>255</td>\n",
              "      <td>255</td>\n",
              "      <td>255</td>\n",
              "      <td>255</td>\n",
              "      <td>255</td>\n",
              "      <td>255</td>\n",
              "      <td>255</td>\n",
              "      <td>255</td>\n",
              "      <td>255</td>\n",
              "      <td>255</td>\n",
              "      <td>...</td>\n",
              "      <td>255</td>\n",
              "      <td>255</td>\n",
              "      <td>255</td>\n",
              "      <td>255</td>\n",
              "      <td>255</td>\n",
              "      <td>255</td>\n",
              "      <td>255</td>\n",
              "      <td>255</td>\n",
              "      <td>255</td>\n",
              "      <td>0</td>\n",
              "    </tr>\n",
              "    <tr>\n",
              "      <th>3</th>\n",
              "      <td>255</td>\n",
              "      <td>255</td>\n",
              "      <td>255</td>\n",
              "      <td>255</td>\n",
              "      <td>255</td>\n",
              "      <td>255</td>\n",
              "      <td>255</td>\n",
              "      <td>255</td>\n",
              "      <td>255</td>\n",
              "      <td>255</td>\n",
              "      <td>...</td>\n",
              "      <td>255</td>\n",
              "      <td>255</td>\n",
              "      <td>255</td>\n",
              "      <td>255</td>\n",
              "      <td>255</td>\n",
              "      <td>255</td>\n",
              "      <td>255</td>\n",
              "      <td>255</td>\n",
              "      <td>255</td>\n",
              "      <td>0</td>\n",
              "    </tr>\n",
              "    <tr>\n",
              "      <th>4</th>\n",
              "      <td>255</td>\n",
              "      <td>255</td>\n",
              "      <td>255</td>\n",
              "      <td>255</td>\n",
              "      <td>255</td>\n",
              "      <td>255</td>\n",
              "      <td>255</td>\n",
              "      <td>255</td>\n",
              "      <td>255</td>\n",
              "      <td>255</td>\n",
              "      <td>...</td>\n",
              "      <td>255</td>\n",
              "      <td>255</td>\n",
              "      <td>255</td>\n",
              "      <td>255</td>\n",
              "      <td>255</td>\n",
              "      <td>255</td>\n",
              "      <td>255</td>\n",
              "      <td>255</td>\n",
              "      <td>255</td>\n",
              "      <td>0</td>\n",
              "    </tr>\n",
              "    <tr>\n",
              "      <th>...</th>\n",
              "      <td>...</td>\n",
              "      <td>...</td>\n",
              "      <td>...</td>\n",
              "      <td>...</td>\n",
              "      <td>...</td>\n",
              "      <td>...</td>\n",
              "      <td>...</td>\n",
              "      <td>...</td>\n",
              "      <td>...</td>\n",
              "      <td>...</td>\n",
              "      <td>...</td>\n",
              "      <td>...</td>\n",
              "      <td>...</td>\n",
              "      <td>...</td>\n",
              "      <td>...</td>\n",
              "      <td>...</td>\n",
              "      <td>...</td>\n",
              "      <td>...</td>\n",
              "      <td>...</td>\n",
              "      <td>...</td>\n",
              "      <td>...</td>\n",
              "    </tr>\n",
              "    <tr>\n",
              "      <th>4262</th>\n",
              "      <td>255</td>\n",
              "      <td>255</td>\n",
              "      <td>255</td>\n",
              "      <td>255</td>\n",
              "      <td>255</td>\n",
              "      <td>255</td>\n",
              "      <td>255</td>\n",
              "      <td>255</td>\n",
              "      <td>255</td>\n",
              "      <td>255</td>\n",
              "      <td>...</td>\n",
              "      <td>255</td>\n",
              "      <td>255</td>\n",
              "      <td>255</td>\n",
              "      <td>255</td>\n",
              "      <td>255</td>\n",
              "      <td>255</td>\n",
              "      <td>255</td>\n",
              "      <td>255</td>\n",
              "      <td>255</td>\n",
              "      <td>26</td>\n",
              "    </tr>\n",
              "    <tr>\n",
              "      <th>4263</th>\n",
              "      <td>255</td>\n",
              "      <td>255</td>\n",
              "      <td>255</td>\n",
              "      <td>255</td>\n",
              "      <td>255</td>\n",
              "      <td>255</td>\n",
              "      <td>255</td>\n",
              "      <td>255</td>\n",
              "      <td>255</td>\n",
              "      <td>255</td>\n",
              "      <td>...</td>\n",
              "      <td>255</td>\n",
              "      <td>255</td>\n",
              "      <td>255</td>\n",
              "      <td>255</td>\n",
              "      <td>255</td>\n",
              "      <td>255</td>\n",
              "      <td>255</td>\n",
              "      <td>255</td>\n",
              "      <td>255</td>\n",
              "      <td>26</td>\n",
              "    </tr>\n",
              "    <tr>\n",
              "      <th>4264</th>\n",
              "      <td>255</td>\n",
              "      <td>255</td>\n",
              "      <td>255</td>\n",
              "      <td>255</td>\n",
              "      <td>255</td>\n",
              "      <td>255</td>\n",
              "      <td>255</td>\n",
              "      <td>255</td>\n",
              "      <td>255</td>\n",
              "      <td>255</td>\n",
              "      <td>...</td>\n",
              "      <td>255</td>\n",
              "      <td>255</td>\n",
              "      <td>255</td>\n",
              "      <td>255</td>\n",
              "      <td>255</td>\n",
              "      <td>255</td>\n",
              "      <td>255</td>\n",
              "      <td>255</td>\n",
              "      <td>255</td>\n",
              "      <td>26</td>\n",
              "    </tr>\n",
              "    <tr>\n",
              "      <th>4265</th>\n",
              "      <td>255</td>\n",
              "      <td>255</td>\n",
              "      <td>255</td>\n",
              "      <td>252</td>\n",
              "      <td>255</td>\n",
              "      <td>255</td>\n",
              "      <td>255</td>\n",
              "      <td>255</td>\n",
              "      <td>255</td>\n",
              "      <td>255</td>\n",
              "      <td>...</td>\n",
              "      <td>255</td>\n",
              "      <td>255</td>\n",
              "      <td>255</td>\n",
              "      <td>255</td>\n",
              "      <td>255</td>\n",
              "      <td>255</td>\n",
              "      <td>255</td>\n",
              "      <td>255</td>\n",
              "      <td>255</td>\n",
              "      <td>26</td>\n",
              "    </tr>\n",
              "    <tr>\n",
              "      <th>4266</th>\n",
              "      <td>255</td>\n",
              "      <td>255</td>\n",
              "      <td>255</td>\n",
              "      <td>255</td>\n",
              "      <td>255</td>\n",
              "      <td>255</td>\n",
              "      <td>255</td>\n",
              "      <td>255</td>\n",
              "      <td>255</td>\n",
              "      <td>255</td>\n",
              "      <td>...</td>\n",
              "      <td>255</td>\n",
              "      <td>255</td>\n",
              "      <td>255</td>\n",
              "      <td>255</td>\n",
              "      <td>255</td>\n",
              "      <td>255</td>\n",
              "      <td>255</td>\n",
              "      <td>255</td>\n",
              "      <td>255</td>\n",
              "      <td>26</td>\n",
              "    </tr>\n",
              "  </tbody>\n",
              "</table>\n",
              "<p>17111 rows × 785 columns</p>\n",
              "</div>\n",
              "      <button class=\"colab-df-convert\" onclick=\"convertToInteractive('df-35974e22-dc21-4dc4-808e-0e8ad81b2bf2')\"\n",
              "              title=\"Convert this dataframe to an interactive table.\"\n",
              "              style=\"display:none;\">\n",
              "        \n",
              "  <svg xmlns=\"http://www.w3.org/2000/svg\" height=\"24px\"viewBox=\"0 0 24 24\"\n",
              "       width=\"24px\">\n",
              "    <path d=\"M0 0h24v24H0V0z\" fill=\"none\"/>\n",
              "    <path d=\"M18.56 5.44l.94 2.06.94-2.06 2.06-.94-2.06-.94-.94-2.06-.94 2.06-2.06.94zm-11 1L8.5 8.5l.94-2.06 2.06-.94-2.06-.94L8.5 2.5l-.94 2.06-2.06.94zm10 10l.94 2.06.94-2.06 2.06-.94-2.06-.94-.94-2.06-.94 2.06-2.06.94z\"/><path d=\"M17.41 7.96l-1.37-1.37c-.4-.4-.92-.59-1.43-.59-.52 0-1.04.2-1.43.59L10.3 9.45l-7.72 7.72c-.78.78-.78 2.05 0 2.83L4 21.41c.39.39.9.59 1.41.59.51 0 1.02-.2 1.41-.59l7.78-7.78 2.81-2.81c.8-.78.8-2.07 0-2.86zM5.41 20L4 18.59l7.72-7.72 1.47 1.35L5.41 20z\"/>\n",
              "  </svg>\n",
              "      </button>\n",
              "      \n",
              "  <style>\n",
              "    .colab-df-container {\n",
              "      display:flex;\n",
              "      flex-wrap:wrap;\n",
              "      gap: 12px;\n",
              "    }\n",
              "\n",
              "    .colab-df-convert {\n",
              "      background-color: #E8F0FE;\n",
              "      border: none;\n",
              "      border-radius: 50%;\n",
              "      cursor: pointer;\n",
              "      display: none;\n",
              "      fill: #1967D2;\n",
              "      height: 32px;\n",
              "      padding: 0 0 0 0;\n",
              "      width: 32px;\n",
              "    }\n",
              "\n",
              "    .colab-df-convert:hover {\n",
              "      background-color: #E2EBFA;\n",
              "      box-shadow: 0px 1px 2px rgba(60, 64, 67, 0.3), 0px 1px 3px 1px rgba(60, 64, 67, 0.15);\n",
              "      fill: #174EA6;\n",
              "    }\n",
              "\n",
              "    [theme=dark] .colab-df-convert {\n",
              "      background-color: #3B4455;\n",
              "      fill: #D2E3FC;\n",
              "    }\n",
              "\n",
              "    [theme=dark] .colab-df-convert:hover {\n",
              "      background-color: #434B5C;\n",
              "      box-shadow: 0px 1px 3px 1px rgba(0, 0, 0, 0.15);\n",
              "      filter: drop-shadow(0px 1px 2px rgba(0, 0, 0, 0.3));\n",
              "      fill: #FFFFFF;\n",
              "    }\n",
              "  </style>\n",
              "\n",
              "      <script>\n",
              "        const buttonEl =\n",
              "          document.querySelector('#df-35974e22-dc21-4dc4-808e-0e8ad81b2bf2 button.colab-df-convert');\n",
              "        buttonEl.style.display =\n",
              "          google.colab.kernel.accessAllowed ? 'block' : 'none';\n",
              "\n",
              "        async function convertToInteractive(key) {\n",
              "          const element = document.querySelector('#df-35974e22-dc21-4dc4-808e-0e8ad81b2bf2');\n",
              "          const dataTable =\n",
              "            await google.colab.kernel.invokeFunction('convertToInteractive',\n",
              "                                                     [key], {});\n",
              "          if (!dataTable) return;\n",
              "\n",
              "          const docLinkHtml = 'Like what you see? Visit the ' +\n",
              "            '<a target=\"_blank\" href=https://colab.research.google.com/notebooks/data_table.ipynb>data table notebook</a>'\n",
              "            + ' to learn more about interactive tables.';\n",
              "          element.innerHTML = '';\n",
              "          dataTable['output_type'] = 'display_data';\n",
              "          await google.colab.output.renderOutput(dataTable, element);\n",
              "          const docLink = document.createElement('div');\n",
              "          docLink.innerHTML = docLinkHtml;\n",
              "          element.appendChild(docLink);\n",
              "        }\n",
              "      </script>\n",
              "    </div>\n",
              "  </div>\n",
              "  "
            ]
          },
          "metadata": {},
          "execution_count": 31
        }
      ],
      "source": [
        "df = pd.concat([df_train, df_test])\n",
        "df"
      ]
    },
    {
      "cell_type": "code",
      "execution_count": null,
      "metadata": {
        "id": "_2CDNEKaQKRu"
      },
      "outputs": [],
      "source": [
        "df.reset_index(drop=True, inplace=True)"
      ]
    },
    {
      "cell_type": "code",
      "execution_count": null,
      "metadata": {
        "colab": {
          "base_uri": "https://localhost:8080/"
        },
        "id": "fM6z4WZaaqHT",
        "outputId": "87fecbfa-4692-43de-f7a6-c524a8470125"
      },
      "outputs": [
        {
          "output_type": "execute_result",
          "data": {
            "text/plain": [
              "0        !\n",
              "1        !\n",
              "2        !\n",
              "3        !\n",
              "4        !\n",
              "        ..\n",
              "17106    Z\n",
              "17107    Z\n",
              "17108    Z\n",
              "17109    Z\n",
              "17110    Z\n",
              "Name: label, Length: 17111, dtype: object"
            ]
          },
          "metadata": {},
          "execution_count": 33
        }
      ],
      "source": [
        "df.label.apply(lambda index_letter: alphabet[ index_letter ])"
      ]
    },
    {
      "cell_type": "code",
      "execution_count": null,
      "metadata": {
        "colab": {
          "base_uri": "https://localhost:8080/"
        },
        "id": "r0Ntsp4jiiBK",
        "outputId": "3ec8f692-c838-4b78-950b-5d13be06d1c2"
      },
      "outputs": [
        {
          "output_type": "execute_result",
          "data": {
            "text/plain": [
              "array([ 0,  1,  2,  3,  4,  5,  6,  7,  8,  9, 10, 11, 12, 13, 14, 15, 16,\n",
              "       17, 18, 19, 20, 21, 22, 23, 24, 25, 26])"
            ]
          },
          "metadata": {},
          "execution_count": 34
        }
      ],
      "source": [
        "np.unique(y_train)"
      ]
    },
    {
      "cell_type": "markdown",
      "metadata": {
        "id": "SQ_twJ9PS-x0"
      },
      "source": [
        "ñ = 14"
      ]
    },
    {
      "cell_type": "code",
      "execution_count": null,
      "metadata": {
        "colab": {
          "base_uri": "https://localhost:8080/",
          "height": 440
        },
        "id": "TCZUXB7xR_8K",
        "outputId": "a60312c3-3ee1-4754-8f87-fbeaaf2b2b1b"
      },
      "outputs": [
        {
          "output_type": "display_data",
          "data": {
            "text/plain": [
              "<Figure size 640x480 with 1 Axes>"
            ],
            "image/png": "[encoded data removed]"
          },
          "metadata": {}
        }
      ],
      "source": [
        "counts = df.label.apply(lambda index_letter: alphabet[ index_letter ]).value_counts()\n",
        "counts.plot(kind='bar')\n",
        "plt.show()"
      ]
    },
    {
      "cell_type": "code",
      "execution_count": null,
      "metadata": {
        "colab": {
          "base_uri": "https://localhost:8080/"
        },
        "id": "xX6xPdhcRfCT",
        "outputId": "3014be1b-7901-4b18-cd53-c5459bac9850"
      },
      "outputs": [
        {
          "output_type": "execute_result",
          "data": {
            "text/plain": [
              "array(['!', 'A', 'B', 'C', 'D', 'E', 'F', 'G', 'H', 'I', 'J', 'K', 'L',\n",
              "       'M', 'N', 'O', 'P', 'Q', 'R', 'S', 'T', 'U', 'V', 'W', 'X', 'Y',\n",
              "       'Z'], dtype=object)"
            ]
          },
          "metadata": {},
          "execution_count": 36
        }
      ],
      "source": [
        "np.unique(df.label.apply(lambda index_letter: alphabet[ index_letter ]))"
      ]
    },
    {
      "cell_type": "markdown",
      "metadata": {
        "id": "TyeKV-qjr9xg"
      },
      "source": [
        "Se está trabajando un dataset que por defecto ya viene partido en dos conjuntos: Train y Test.\n",
        "La cantidad de muestras que hay en el conjunto de entrenamiento es de 12844 y en el de test hay 4267.\n",
        "La última columna (`label`) corresponde a las diferentes clases que tiene este problema de clasificación."
      ]
    },
    {
      "cell_type": "markdown",
      "metadata": {
        "id": "GlEFGVWKhnBD"
      },
      "source": [
        "**NO TIENE DATOS FALTANTES**"
      ]
    },
    {
      "cell_type": "code",
      "execution_count": null,
      "metadata": {
        "colab": {
          "base_uri": "https://localhost:8080/"
        },
        "id": "5z1j4S-AhOTN",
        "outputId": "a784b790-bfe2-4144-c282-603150dec0b1"
      },
      "outputs": [
        {
          "output_type": "execute_result",
          "data": {
            "text/plain": [
              "pixel_0      0%\n",
              "pixel_1      0%\n",
              "pixel_2      0%\n",
              "pixel_3      0%\n",
              "pixel_4      0%\n",
              "             ..\n",
              "pixel_780    0%\n",
              "pixel_781    0%\n",
              "pixel_782    0%\n",
              "pixel_783    0%\n",
              "label        0%\n",
              "Length: 785, dtype: object"
            ]
          },
          "metadata": {},
          "execution_count": 37
        }
      ],
      "source": [
        "k = df.isna().sum()\n",
        "((round(k/df.shape[0], 2) * 100).astype(int)).astype(str).str.cat(['' for i in range(len(k))], sep='%')"
      ]
    },
    {
      "cell_type": "markdown",
      "metadata": {
        "id": "xUYY1-2_n5_i"
      },
      "source": [
        "Se escalan los conjuntos $X_{train}$ y $X_{test}$ con `MinMaxScaler` en base a $X_{train}$"
      ]
    },
    {
      "cell_type": "code",
      "execution_count": null,
      "metadata": {
        "id": "8rsjOsI6VAcf"
      },
      "outputs": [],
      "source": [
        "scaler = MinMaxScaler()\n",
        "X_train_scaled = pd.DataFrame(scaler.fit_transform(X_train), index=X_train.index, columns=X_train.columns)\n",
        "X_test_scaled = pd.DataFrame(scaler.transform(X_test), index=X_test.index, columns=X_test.columns)"
      ]
    },
    {
      "cell_type": "code",
      "execution_count": null,
      "metadata": {
        "colab": {
          "base_uri": "https://localhost:8080/",
          "height": 434
        },
        "id": "-fUzSa6nYlOB",
        "outputId": "d748b609-e242-4026-ff0c-7ed10119e5ab"
      },
      "outputs": [
        {
          "output_type": "display_data",
          "data": {
            "text/plain": [
              "<Figure size 640x480 with 1 Axes>"
            ],
            "image/png": "[encoded data removed]"
          },
          "metadata": {}
        }
      ],
      "source": [
        "plt.imshow(np.array(X_train_scaled.iloc[1000]).reshape((28,28)), cmap=\"binary\")\n",
        "plt.show()"
      ]
    },
    {
      "cell_type": "markdown",
      "metadata": {
        "id": "oBPzgLKsRnwL"
      },
      "source": [
        "## Redimensionamiento\n",
        "Hasta este punto, cada imagen se representa como un vector, sin embargo, dado que en el modelo de red neuronal convolucional nos interesa extraer información sobre la relación de un pixel con su alrededor, crearemos un nuevo dataset redimensionado para este modelo."
      ]
    },
    {
      "cell_type": "code",
      "execution_count": null,
      "metadata": {
        "id": "jJVeJQWUSv0F"
      },
      "outputs": [],
      "source": [
        "X_train_scaled_2d = np.reshape(np.array(X_train_scaled), (X_train_scaled.shape[0],28,28))\n",
        "y_train_array = np.array(y_train)\n",
        "\n",
        "X_test_scaled_2d = np.reshape(np.array(X_test_scaled), (X_test_scaled.shape[0],28,28))\n",
        "y_test_array = np.array(y_test)\n",
        "\n",
        "image = X_train_scaled_2d[1000]"
      ]
    },
    {
      "cell_type": "code",
      "execution_count": null,
      "metadata": {
        "colab": {
          "base_uri": "https://localhost:8080/",
          "height": 434
        },
        "id": "yDuB8seFUFvz",
        "outputId": "f7f103f6-3fab-4a01-c698-b4744bc0a8d6"
      },
      "outputs": [
        {
          "output_type": "display_data",
          "data": {
            "text/plain": [
              "<Figure size 640x480 with 1 Axes>"
            ],
            "image/png": "[encoded data removed]"
          },
          "metadata": {}
        }
      ],
      "source": [
        "# Create a figure and axis\n",
        "fig, ax = plt.subplots()\n",
        "\n",
        "# Plot the image\n",
        "ax.imshow(image, cmap='binary')\n",
        "\n",
        "# Show the plot\n",
        "plt.show()"
      ]
    },
    {
      "cell_type": "markdown",
      "metadata": {
        "id": "juboAVLPRfzu"
      },
      "source": [
        "#Modelos a considerar\n",
        "* Feedforward neural network\n",
        "* Convolutional neural network\n",
        "\n",
        "Definamos una función experimentos, la metodología de validación a usar es \"KFolds\""
      ]
    },
    {
      "cell_type": "markdown",
      "metadata": {
        "id": "v6mGDOT-Nh0W"
      },
      "source": [
        "## Feedforward neural network"
      ]
    },
    {
      "cell_type": "code",
      "execution_count": null,
      "metadata": {
        "id": "w5iP5cVSNnpo"
      },
      "outputs": [],
      "source": [
        "def get_model(num_classes=2, nlayers=3, lsize=64, compile=True, dropout=None):\n",
        "    print(\"using\",num_classes,\"classes\")\n",
        "    print(f\"Entrenando modelo lsize = {lsize} - nlayers = {nlayers}\")\n",
        "    inputs = tf.keras.Input(shape=(784), name=\"input_1\")\n",
        "    \n",
        "    layers = inputs\n",
        "    for _ in range(nlayers):\n",
        "        layers = tf.keras.layers.Dense(lsize, activation=tf.nn.relu)(layers)\n",
        "        if dropout is not None:\n",
        "            layers = tf.keras.layers.Dropout(dropout)(layers)\n",
        "            \n",
        "    predictions = tf.keras.layers.Dense(num_classes, activation=tf.nn.softmax, name=\"output_1\")(layers)\n",
        "    model = tf.keras.Model(inputs = inputs, outputs=predictions)\n",
        "    if compile:\n",
        "        model.compile(optimizer='adam',\n",
        "                      loss='sparse_categorical_crossentropy',\n",
        "                      metrics=['accuracy'])\n",
        "    return model"
      ]
    },
    {
      "cell_type": "code",
      "execution_count": null,
      "metadata": {
        "id": "CuVvPlojpySc"
      },
      "outputs": [],
      "source": [
        "def experiments_dense_model(X, y):\n",
        "    \"\"\"\n",
        "    Función que realiza los experimentos con el modelo \n",
        "    red neuronal convolucional, estos experimentos constan de:\n",
        "    - Estrategia de validacion: K-Fold\n",
        "    - Etapa de entrenamiento\n",
        "    - Fase de validación\n",
        "    X_train: Matriz 3D (i,j,k) donde la matriz i representa la imagen i y j y k los subíndices de la imagen\n",
        "    y_train: Vector de numpy con la variable de salida\n",
        "    retorna: Matriz de confusion, recall, precision\n",
        "    \"\"\"\n",
        "    X_train, X_test, y_train, y_test = train_test_split(X, y, test_size=0.33, random_state=0)\n",
        "    nlayers = [2**i for i in range(5)]\n",
        "    lsize = [2**i for i in range(5, 10)]\n",
        "\n",
        "\n",
        "\n",
        "    # Nuestro hiperparámetro a considerar será si se aplica max_pooling o no\n",
        "    for n_layers, l_size in product(nlayers, lsize):\n",
        "        #Metodología de validación\n",
        "        \n",
        "\n",
        "        #Entrenamiento del modelo\n",
        "        model = get_model(num_classes=27, lsize=l_size, nlayers=n_layers)\n",
        "        model.fit(X_train, y_train, epochs=128, verbose=0)\n",
        "\n",
        "        print(f\"Modelo lsize = {l_size} - nlayers = {n_layers}\")\n",
        "        print(\"Entrenamiento\")\n",
        "        model.evaluate(x=X_train,y=y_train)\n",
        "        print(\"Validación\")\n",
        "        model.evaluate(x=X_test,y=y_test)\n",
        "\n",
        "\n",
        "       \n",
        "    "
      ]
    },
    {
      "cell_type": "markdown",
      "metadata": {
        "id": "ilOt01pjQI14"
      },
      "source": [
        "## Convolutional neural network"
      ]
    },
    {
      "cell_type": "code",
      "execution_count": null,
      "metadata": {
        "id": "LXpVwoWuQLth"
      },
      "outputs": [],
      "source": [
        "def get_conv_model(num_classes=3, img_size=32, channels=3, use_maxpooling=True, compile=True, filters_per_layer=[32,16], size_filter_per_layer=[7,5]):\n",
        "    print (\"using\",num_classes,\"classes\")\n",
        "    print(f\"Entrenando modelo max_pooling = {use_maxpooling} - size_filter_per_layer = {size_filter_per_layer} - filters_per_layer = {filters_per_layer}\")\n",
        "    #inputs = tf.keras.Input(shape=(img_size,img_size,3), name=\"input_1\")\n",
        "\n",
        "    inputs = tf.keras.Input(shape=(img_size,img_size,channels), name=\"input_1\")\n",
        "    layers = tf.keras.layers.Conv2D(filters_per_layer[0],(size_filter_per_layer[0],size_filter_per_layer[0]), activation=\"relu\",padding='same')(inputs)\n",
        "\n",
        "    for n_filters, size_filters in zip(filters_per_layer[1:], size_filter_per_layer[1:]):\n",
        "        layers = tf.keras.layers.Conv2D(n_filters,(size_filters,size_filters), activation=\"relu\", padding='same')(layers)\n",
        "        if use_maxpooling:\n",
        "            layers = tf.keras.layers.MaxPool2D((2,2))(layers)\n",
        "\n",
        "    layers = tf.keras.layers.Flatten()(layers)\n",
        "    layers = tf.keras.layers.Dense(128, activation=tf.nn.relu)(layers)\n",
        "    layers = tf.keras.layers.Dense(128, activation=tf.nn.relu)(layers)\n",
        "    layers = tf.keras.layers.Dropout(0.5)(layers)\n",
        "    predictions = tf.keras.layers.Dense(num_classes, activation=tf.nn.softmax, name=\"output_1\")(layers)\n",
        "    model = tf.keras.Model(inputs = inputs, outputs=predictions)\n",
        "    if compile:\n",
        "        model.compile(optimizer='adam',\n",
        "                      loss='sparse_categorical_crossentropy',\n",
        "                      metrics=['accuracy'])\n",
        "    return model"
      ]
    },
    {
      "cell_type": "code",
      "execution_count": null,
      "metadata": {
        "id": "Mux05JdZBSfV"
      },
      "outputs": [],
      "source": [
        "def experiments_conv_model(X, y):\n",
        "    \"\"\"\n",
        "    Función que realiza los experimentos con el modelo \n",
        "    red neuronal convolucional, estos experimentos constan de:\n",
        "    - Estrategia de validacion: K-Fold\n",
        "    - Etapa de entrenamiento\n",
        "    - Fase de validación\n",
        "    X_train: Matriz 3D (i,j,k) donde la matriz i representa la imagen i y j y k los subíndices de la imagen\n",
        "    y_train: Vector de numpy con la variable de salida\n",
        "    retorna: Matriz de confusion, recall, precision\n",
        "    \"\"\"\n",
        "    X_train, X_test, y_train, y_test = train_test_split(X, y, test_size=0.33, random_state=0)\n",
        "    max_pooling_hyperparams = [True, False]\n",
        "    size_filter_per_layer_hyperparams = [\n",
        "        [7,5,3],\n",
        "        [9,7,5,3],\n",
        "        [11,9,7,5,3],\n",
        "    ]\n",
        "\n",
        "    filters_per_layer_hyperparams = [\n",
        "        [32, 16, 8],\n",
        "        [64,32, 16, 8],\n",
        "        [128,64,32, 16, 8],\n",
        "\n",
        "    ]\n",
        "\n",
        "    # Nuestro hiperparámetro a considerar será si se aplica max_pooling o no\n",
        "    for max_pooling, (size_filter_per_layer, filters_per_layer) in product(max_pooling_hyperparams, zip(size_filter_per_layer_hyperparams, filters_per_layer_hyperparams)):\n",
        "        #Metodología de validación\n",
        "        \n",
        "\n",
        "        #Entrenamiento del modelo\n",
        "        model = get_conv_model(num_classes=27, img_size=28, channels=1, use_maxpooling=max_pooling, size_filter_per_layer=size_filter_per_layer, filters_per_layer=filters_per_layer)\n",
        "        model.fit(X_train, y_train, epochs=4)\n",
        "\n",
        "        print(f\"Modelo max_pooling = {max_pooling} - size_filter_per_layer = {size_filter_per_layer} - filters_per_layer = {filters_per_layer}\")\n",
        "        model.evaluate(x=X_test,y=y_test)\n",
        "\n",
        "\n",
        "       \n",
        "    "
      ]
    },
    {
      "cell_type": "markdown",
      "metadata": {
        "id": "NLkbdhlJKVnu"
      },
      "source": [
        "## Experimentación"
      ]
    },
    {
      "cell_type": "markdown",
      "source": [
        "Modelo convolucional"
      ],
      "metadata": {
        "id": "mGViyb1D_mto"
      }
    },
    {
      "cell_type": "code",
      "execution_count": null,
      "metadata": {
        "colab": {
          "base_uri": "https://localhost:8080/"
        },
        "id": "Q87HPZpuKSPl",
        "outputId": "99796e88-eafa-4c2c-901d-91115c1f322f"
      },
      "outputs": [
        {
          "name": "stdout",
          "output_type": "stream",
          "text": [
            "using 27 classes\n",
            "Entrenando modelo max_pooling = True - size_filter_per_layer = [7, 5, 3] - filters_per_layer = [32, 16, 8]\n",
            "Epoch 1/4\n",
            "269/269 [==============================] - 47s 172ms/step - loss: 2.9448 - accuracy: 0.1385\n",
            "Epoch 2/4\n",
            "269/269 [==============================] - 46s 170ms/step - loss: 0.8818 - accuracy: 0.7135\n",
            "Epoch 3/4\n",
            "269/269 [==============================] - 46s 170ms/step - loss: 0.3996 - accuracy: 0.8641\n",
            "Epoch 4/4\n",
            "269/269 [==============================] - 47s 173ms/step - loss: 0.2477 - accuracy: 0.9149\n",
            "Modelo max_pooling = True - size_filter_per_layer = [7, 5, 3] - filters_per_layer = [32, 16, 8]\n",
            "133/133 [==============================] - 4s 32ms/step - loss: 0.1021 - accuracy: 0.9672\n",
            "using 27 classes\n",
            "Entrenando modelo max_pooling = True - size_filter_per_layer = [9, 7, 5, 3] - filters_per_layer = [64, 32, 16, 8]\n",
            "Epoch 1/4\n",
            "269/269 [==============================] - 178s 656ms/step - loss: 3.2966 - accuracy: 0.0358\n",
            "Epoch 2/4\n",
            "269/269 [==============================] - 175s 651ms/step - loss: 3.2958 - accuracy: 0.0358\n",
            "Epoch 3/4\n",
            "269/269 [==============================] - 176s 655ms/step - loss: 3.2957 - accuracy: 0.0385\n",
            "Epoch 4/4\n",
            "269/269 [==============================] - 172s 639ms/step - loss: 3.2954 - accuracy: 0.0406\n",
            "Modelo max_pooling = True - size_filter_per_layer = [9, 7, 5, 3] - filters_per_layer = [64, 32, 16, 8]\n",
            "133/133 [==============================] - 18s 137ms/step - loss: 3.2976 - accuracy: 0.0370\n",
            "using 27 classes\n",
            "Entrenando modelo max_pooling = True - size_filter_per_layer = [11, 9, 7, 5, 3] - filters_per_layer = [128, 64, 32, 16, 8]\n",
            "Epoch 1/4\n",
            "269/269 [==============================] - 788s 3s/step - loss: 3.2971 - accuracy: 0.0377\n",
            "Epoch 2/4\n",
            "269/269 [==============================] - 782s 3s/step - loss: 3.2958 - accuracy: 0.0360\n",
            "Epoch 3/4\n",
            "269/269 [==============================] - 779s 3s/step - loss: 3.2959 - accuracy: 0.0351\n",
            "Epoch 4/4\n",
            "269/269 [==============================] - 770s 3s/step - loss: 3.2954 - accuracy: 0.0377\n",
            "Modelo max_pooling = True - size_filter_per_layer = [11, 9, 7, 5, 3] - filters_per_layer = [128, 64, 32, 16, 8]\n",
            "133/133 [==============================] - 85s 637ms/step - loss: 3.2977 - accuracy: 0.0354\n",
            "using 27 classes\n",
            "Entrenando modelo max_pooling = False - size_filter_per_layer = [7, 5, 3] - filters_per_layer = [32, 16, 8]\n",
            "Epoch 1/4\n",
            "269/269 [==============================] - 50s 180ms/step - loss: 2.4749 - accuracy: 0.2755\n",
            "Epoch 2/4\n",
            "269/269 [==============================] - 49s 182ms/step - loss: 0.5196 - accuracy: 0.8314\n",
            "Epoch 3/4\n",
            "269/269 [==============================] - 49s 182ms/step - loss: 0.2088 - accuracy: 0.9335\n",
            "Epoch 4/4\n",
            "269/269 [==============================] - 49s 184ms/step - loss: 0.1239 - accuracy: 0.9599\n",
            "Modelo max_pooling = False - size_filter_per_layer = [7, 5, 3] - filters_per_layer = [32, 16, 8]\n",
            "133/133 [==============================] - 5s 33ms/step - loss: 0.1023 - accuracy: 0.9686\n",
            "using 27 classes\n",
            "Entrenando modelo max_pooling = False - size_filter_per_layer = [9, 7, 5, 3] - filters_per_layer = [64, 32, 16, 8]\n",
            "Epoch 1/4\n",
            " 17/269 [>.............................] - ETA: 3:04 - loss: 3.3202 - accuracy: 0.0349"
          ]
        }
      ],
      "source": [
        "resultados_conv_model = experiments_conv_model(X_train_scaled_2d, y_train_array)"
      ]
    },
    {
      "cell_type": "markdown",
      "source": [
        "Modelo perceptrón multicapa"
      ],
      "metadata": {
        "id": "0O9Exzk-_p8X"
      }
    },
    {
      "cell_type": "code",
      "execution_count": null,
      "metadata": {
        "colab": {
          "base_uri": "https://localhost:8080/"
        },
        "id": "PqtzL5Fqb_Bf",
        "outputId": "5ea471c9-c2c4-48f1-8881-022a68c0c74d"
      },
      "outputs": [
        {
          "output_type": "stream",
          "name": "stdout",
          "text": [
            "using 27 classes\n",
            "Entrenando modelo lsize = 32 - nlayers = 1\n",
            "Modelo lsize = 32 - nlayers = 1\n",
            "Entrenamiento\n",
            "269/269 [==============================] - 0s 1ms/step - loss: 3.2949 - accuracy: 0.0399\n",
            "Validación\n",
            "133/133 [==============================] - 0s 1ms/step - loss: 3.2982 - accuracy: 0.0370\n",
            "using 27 classes\n",
            "Entrenando modelo lsize = 64 - nlayers = 1\n",
            "Modelo lsize = 64 - nlayers = 1\n",
            "Entrenamiento\n",
            "269/269 [==============================] - 1s 1ms/step - loss: 3.2949 - accuracy: 0.0399\n",
            "Validación\n",
            "133/133 [==============================] - 0s 1ms/step - loss: 3.2982 - accuracy: 0.0370\n",
            "using 27 classes\n",
            "Entrenando modelo lsize = 128 - nlayers = 1\n",
            "Modelo lsize = 128 - nlayers = 1\n",
            "Entrenamiento\n",
            "269/269 [==============================] - 0s 1ms/step - loss: 0.0019 - accuracy: 1.0000\n",
            "Validación\n",
            "133/133 [==============================] - 0s 2ms/step - loss: 0.1135 - accuracy: 0.9707\n",
            "using 27 classes\n",
            "Entrenando modelo lsize = 256 - nlayers = 1\n",
            "Modelo lsize = 256 - nlayers = 1\n",
            "Entrenamiento\n",
            "269/269 [==============================] - 1s 2ms/step - loss: 0.0012 - accuracy: 1.0000\n",
            "Validación\n",
            "133/133 [==============================] - 0s 1ms/step - loss: 0.0934 - accuracy: 0.9766\n",
            "using 27 classes\n",
            "Entrenando modelo lsize = 512 - nlayers = 1\n",
            "Modelo lsize = 512 - nlayers = 1\n",
            "Entrenamiento\n",
            "269/269 [==============================] - 1s 2ms/step - loss: 0.0014 - accuracy: 1.0000\n",
            "Validación\n",
            "133/133 [==============================] - 0s 2ms/step - loss: 0.0954 - accuracy: 0.9736\n",
            "using 27 classes\n",
            "Entrenando modelo lsize = 32 - nlayers = 2\n",
            "Modelo lsize = 32 - nlayers = 2\n",
            "Entrenamiento\n",
            "269/269 [==============================] - 0s 1ms/step - loss: 2.0979 - accuracy: 0.2449\n",
            "Validación\n",
            "133/133 [==============================] - 0s 1ms/step - loss: 2.1899 - accuracy: 0.2241\n",
            "using 27 classes\n",
            "Entrenando modelo lsize = 64 - nlayers = 2\n",
            "Modelo lsize = 64 - nlayers = 2\n",
            "Entrenamiento\n",
            "269/269 [==============================] - 0s 1ms/step - loss: 0.4633 - accuracy: 0.8308\n",
            "Validación\n",
            "133/133 [==============================] - 0s 1ms/step - loss: 0.7319 - accuracy: 0.7686\n",
            "using 27 classes\n",
            "Entrenando modelo lsize = 128 - nlayers = 2\n",
            "Modelo lsize = 128 - nlayers = 2\n",
            "Entrenamiento\n",
            "269/269 [==============================] - 0s 1ms/step - loss: 0.0016 - accuracy: 0.9998\n",
            "Validación\n",
            "133/133 [==============================] - 0s 1ms/step - loss: 0.1638 - accuracy: 0.9644\n",
            "using 27 classes\n",
            "Entrenando modelo lsize = 256 - nlayers = 2\n",
            "Modelo lsize = 256 - nlayers = 2\n",
            "Entrenamiento\n",
            "269/269 [==============================] - 1s 2ms/step - loss: 4.0703e-04 - accuracy: 1.0000\n",
            "Validación\n",
            "133/133 [==============================] - 0s 2ms/step - loss: 0.0963 - accuracy: 0.9769\n",
            "using 27 classes\n",
            "Entrenando modelo lsize = 512 - nlayers = 2\n",
            "Modelo lsize = 512 - nlayers = 2\n",
            "Entrenamiento\n",
            "269/269 [==============================] - 1s 2ms/step - loss: 0.0385 - accuracy: 0.9866\n",
            "Validación\n",
            "133/133 [==============================] - 0s 2ms/step - loss: 0.1654 - accuracy: 0.9507\n",
            "using 27 classes\n",
            "Entrenando modelo lsize = 32 - nlayers = 4\n",
            "Modelo lsize = 32 - nlayers = 4\n",
            "Entrenamiento\n",
            "269/269 [==============================] - 1s 1ms/step - loss: 0.4519 - accuracy: 0.8331\n",
            "Validación\n",
            "133/133 [==============================] - 0s 1ms/step - loss: 0.7400 - accuracy: 0.7679\n",
            "using 27 classes\n",
            "Entrenando modelo lsize = 64 - nlayers = 4\n",
            "Modelo lsize = 64 - nlayers = 4\n",
            "Entrenamiento\n",
            "269/269 [==============================] - 0s 1ms/step - loss: 0.0181 - accuracy: 0.9947\n",
            "Validación\n",
            "133/133 [==============================] - 0s 1ms/step - loss: 0.1875 - accuracy: 0.9500\n",
            "using 27 classes\n",
            "Entrenando modelo lsize = 128 - nlayers = 4\n",
            "Modelo lsize = 128 - nlayers = 4\n",
            "Entrenamiento\n",
            "269/269 [==============================] - 1s 2ms/step - loss: 0.1186 - accuracy: 0.9608\n",
            "Validación\n",
            "133/133 [==============================] - 0s 2ms/step - loss: 0.3581 - accuracy: 0.9148\n",
            "using 27 classes\n",
            "Entrenando modelo lsize = 256 - nlayers = 4\n",
            "Modelo lsize = 256 - nlayers = 4\n",
            "Entrenamiento\n",
            "269/269 [==============================] - 1s 2ms/step - loss: 7.0376e-08 - accuracy: 1.0000\n",
            "Validación\n",
            "133/133 [==============================] - 0s 2ms/step - loss: 0.1293 - accuracy: 0.9830\n",
            "using 27 classes\n",
            "Entrenando modelo lsize = 512 - nlayers = 4\n",
            "Modelo lsize = 512 - nlayers = 4\n",
            "Entrenamiento\n",
            "269/269 [==============================] - 1s 3ms/step - loss: 0.0219 - accuracy: 0.9943\n",
            "Validación\n",
            "133/133 [==============================] - 1s 4ms/step - loss: 0.2621 - accuracy: 0.9290\n",
            "using 27 classes\n",
            "Entrenando modelo lsize = 32 - nlayers = 8\n",
            "Modelo lsize = 32 - nlayers = 8\n",
            "Entrenamiento\n",
            "269/269 [==============================] - 0s 1ms/step - loss: 0.2365 - accuracy: 0.9147\n",
            "Validación\n",
            "133/133 [==============================] - 0s 1ms/step - loss: 0.5335 - accuracy: 0.8410\n",
            "using 27 classes\n",
            "Entrenando modelo lsize = 64 - nlayers = 8\n",
            "Modelo lsize = 64 - nlayers = 8\n",
            "Entrenamiento\n",
            "269/269 [==============================] - 1s 1ms/step - loss: 3.2949 - accuracy: 0.0399\n",
            "Validación\n",
            "133/133 [==============================] - 0s 1ms/step - loss: 3.2983 - accuracy: 0.0370\n",
            "using 27 classes\n",
            "Entrenando modelo lsize = 128 - nlayers = 8\n",
            "Modelo lsize = 128 - nlayers = 8\n",
            "Entrenamiento\n",
            "269/269 [==============================] - 1s 2ms/step - loss: 0.5411 - accuracy: 0.8015\n",
            "Validación\n",
            "133/133 [==============================] - 0s 2ms/step - loss: 0.8248 - accuracy: 0.7306\n",
            "using 27 classes\n",
            "Entrenando modelo lsize = 256 - nlayers = 8\n",
            "Modelo lsize = 256 - nlayers = 8\n",
            "Entrenamiento\n",
            "269/269 [==============================] - 1s 3ms/step - loss: 0.9971 - accuracy: 0.6390\n",
            "Validación\n",
            "133/133 [==============================] - 0s 3ms/step - loss: 1.2189 - accuracy: 0.5638\n",
            "using 27 classes\n",
            "Entrenando modelo lsize = 512 - nlayers = 8\n",
            "Modelo lsize = 512 - nlayers = 8\n",
            "Entrenamiento\n",
            "269/269 [==============================] - 2s 5ms/step - loss: 3.2949 - accuracy: 0.0399\n",
            "Validación\n",
            "133/133 [==============================] - 1s 5ms/step - loss: 3.2983 - accuracy: 0.0370\n",
            "using 27 classes\n",
            "Entrenando modelo lsize = 32 - nlayers = 16\n",
            "Modelo lsize = 32 - nlayers = 16\n",
            "Entrenamiento\n",
            "269/269 [==============================] - 1s 1ms/step - loss: 3.2949 - accuracy: 0.0399\n",
            "Validación\n",
            "133/133 [==============================] - 0s 1ms/step - loss: 3.2982 - accuracy: 0.0370\n",
            "using 27 classes\n",
            "Entrenando modelo lsize = 64 - nlayers = 16\n",
            "Modelo lsize = 64 - nlayers = 16\n",
            "Entrenamiento\n",
            "269/269 [==============================] - 1s 2ms/step - loss: 3.2949 - accuracy: 0.0399\n",
            "Validación\n",
            "133/133 [==============================] - 0s 2ms/step - loss: 3.2984 - accuracy: 0.0370\n",
            "using 27 classes\n",
            "Entrenando modelo lsize = 128 - nlayers = 16\n",
            "Modelo lsize = 128 - nlayers = 16\n",
            "Entrenamiento\n",
            "269/269 [==============================] - 1s 2ms/step - loss: 3.2949 - accuracy: 0.0399\n",
            "Validación\n",
            "133/133 [==============================] - 0s 2ms/step - loss: 3.2983 - accuracy: 0.0370\n",
            "using 27 classes\n",
            "Entrenando modelo lsize = 256 - nlayers = 16\n",
            "Modelo lsize = 256 - nlayers = 16\n",
            "Entrenamiento\n",
            "269/269 [==============================] - 1s 3ms/step - loss: 3.2949 - accuracy: 0.0399\n",
            "Validación\n",
            "133/133 [==============================] - 0s 3ms/step - loss: 3.2982 - accuracy: 0.0370\n",
            "using 27 classes\n",
            "Entrenando modelo lsize = 512 - nlayers = 16\n",
            "Modelo lsize = 512 - nlayers = 16\n",
            "Entrenamiento\n",
            "269/269 [==============================] - 3s 11ms/step - loss: 3.2949 - accuracy: 0.0399\n",
            "Validación\n",
            "133/133 [==============================] - 2s 12ms/step - loss: 3.2982 - accuracy: 0.0370\n"
          ]
        }
      ],
      "source": [
        "experiments_dense_model(X_train_scaled, y_train_array)"
      ]
    },
    {
      "cell_type": "code",
      "execution_count": null,
      "metadata": {
        "id": "dsbP7yf0-elR"
      },
      "outputs": [],
      "source": [
        "mlp_accuracy_training = \"\"\"\n",
        "0.0399\n",
        "0.0399\n",
        "1.0000\n",
        "1.0000\n",
        "1.0000\n",
        "0.2449\n",
        "0.8308\n",
        "0.9998\n",
        "1.0000\n",
        "0.9866\n",
        "0.8331\n",
        "0.9947\n",
        "0.9608\n",
        "1.0000\n",
        "0.9943\n",
        "0.9147\n",
        "0.0399\n",
        "0.8015\n",
        "0.6390\n",
        "0.0399\n",
        "0.0399\n",
        "0.0399\n",
        "0.0399\n",
        "0.0399\n",
        "0.0399\n",
        "\"\"\"\n",
        "\n",
        "mlp_accuracy_testing = \"\"\"\n",
        "0.0370\n",
        "0.0370\n",
        "0.9707\n",
        "0.9766\n",
        "0.9736\n",
        "0.2241\n",
        "0.7686\n",
        "0.9998\n",
        "0.9769\n",
        "0.9507\n",
        "0.7679\n",
        "0.9947\n",
        "0.9148\n",
        "0.9830\n",
        "0.9290\n",
        "0.8410\n",
        "0.0399\n",
        "0.7306\n",
        "0.5638\n",
        "0.0370\n",
        "0.0370\n",
        "0.0370\n",
        "0.0370\n",
        "0.0370\n",
        "0.0370\n",
        "\"\"\""
      ]
    },
    {
      "cell_type": "code",
      "source": [
        "mlp_accuracy_training = np.array(mlp_accuracy_training.split(\"\\n\")[1:-1]).astype(float)\n",
        "mlp_accuracy_testing = np.array(mlp_accuracy_testing.split(\"\\n\")[1:-1]).astype(float)"
      ],
      "metadata": {
        "id": "QYV2LcpX8uYd"
      },
      "execution_count": null,
      "outputs": []
    },
    {
      "cell_type": "code",
      "source": [
        "np.argmin(np.abs(mlp_accuracy_training - mlp_accuracy_testing))"
      ],
      "metadata": {
        "colab": {
          "base_uri": "https://localhost:8080/"
        },
        "id": "wYG2wG4n8vl4",
        "outputId": "326be529-505c-4e01-ed94-f68eaa60888a"
      },
      "execution_count": null,
      "outputs": [
        {
          "output_type": "execute_result",
          "data": {
            "text/plain": [
              "7"
            ]
          },
          "metadata": {},
          "execution_count": 19
        }
      ]
    },
    {
      "cell_type": "markdown",
      "source": [
        "## Comparación mejores modelos"
      ],
      "metadata": {
        "id": "Kzel82pu_vJG"
      }
    },
    {
      "cell_type": "markdown",
      "source": [
        "### Perceptrón multicapa"
      ],
      "metadata": {
        "id": "uUsGZMQMTGXt"
      }
    },
    {
      "cell_type": "code",
      "source": [
        "mlp_best_model = get_model(num_classes=27, nlayers=2, lsize=128)"
      ],
      "metadata": {
        "colab": {
          "base_uri": "https://localhost:8080/"
        },
        "id": "RXGB7pfg9nxm",
        "outputId": "3cffbbc8-c6ff-4c40-8e28-715ecd4d72a3"
      },
      "execution_count": null,
      "outputs": [
        {
          "output_type": "stream",
          "name": "stdout",
          "text": [
            "using 27 classes\n",
            "Entrenando modelo lsize = 128 - nlayers = 2\n"
          ]
        }
      ]
    },
    {
      "cell_type": "code",
      "source": [
        "mlp_best_model.fit(X_train_scaled, y_train_array, epochs=12)"
      ],
      "metadata": {
        "colab": {
          "base_uri": "https://localhost:8080/"
        },
        "id": "G6j4c8FbAiyt",
        "outputId": "b5927b95-b5ff-4e5b-88dd-1c2cac194ae3"
      },
      "execution_count": null,
      "outputs": [
        {
          "output_type": "stream",
          "name": "stdout",
          "text": [
            "Epoch 1/12\n",
            "402/402 [==============================] - 2s 4ms/step - loss: 2.9211 - accuracy: 0.1868\n",
            "Epoch 2/12\n",
            "402/402 [==============================] - 2s 4ms/step - loss: 1.4526 - accuracy: 0.6039\n",
            "Epoch 3/12\n",
            "402/402 [==============================] - 3s 7ms/step - loss: 0.8550 - accuracy: 0.7544\n",
            "Epoch 4/12\n",
            "402/402 [==============================] - 2s 4ms/step - loss: 0.6025 - accuracy: 0.8245\n",
            "Epoch 5/12\n",
            "402/402 [==============================] - 2s 4ms/step - loss: 0.4937 - accuracy: 0.8535\n",
            "Epoch 6/12\n",
            "402/402 [==============================] - 2s 4ms/step - loss: 0.4069 - accuracy: 0.8766\n",
            "Epoch 7/12\n",
            "402/402 [==============================] - 2s 4ms/step - loss: 0.3406 - accuracy: 0.8970\n",
            "Epoch 8/12\n",
            "402/402 [==============================] - 2s 4ms/step - loss: 0.3006 - accuracy: 0.9098\n",
            "Epoch 9/12\n",
            "402/402 [==============================] - 2s 4ms/step - loss: 0.2642 - accuracy: 0.9186\n",
            "Epoch 10/12\n",
            "402/402 [==============================] - 3s 7ms/step - loss: 0.2446 - accuracy: 0.9253\n",
            "Epoch 11/12\n",
            "402/402 [==============================] - 2s 4ms/step - loss: 0.2196 - accuracy: 0.9312\n",
            "Epoch 12/12\n",
            "402/402 [==============================] - 2s 4ms/step - loss: 0.1932 - accuracy: 0.9415\n"
          ]
        },
        {
          "output_type": "execute_result",
          "data": {
            "text/plain": [
              "<keras.callbacks.History at 0x7efe0a5efe50>"
            ]
          },
          "metadata": {},
          "execution_count": 100
        }
      ]
    },
    {
      "cell_type": "code",
      "source": [
        "y_test_est = mlp_best_model.predict(X_test_scaled)"
      ],
      "metadata": {
        "colab": {
          "base_uri": "https://localhost:8080/"
        },
        "id": "iCPHa0-mAz91",
        "outputId": "72330b28-491d-43c3-a81f-af90d19849aa"
      },
      "execution_count": null,
      "outputs": [
        {
          "output_type": "stream",
          "name": "stdout",
          "text": [
            "134/134 [==============================] - 0s 2ms/step\n"
          ]
        }
      ]
    },
    {
      "cell_type": "code",
      "source": [
        "mlp_best_model.evaluate(X_test_scaled, y_test_array)"
      ],
      "metadata": {
        "colab": {
          "base_uri": "https://localhost:8080/"
        },
        "id": "YxzY3xtxQeFM",
        "outputId": "5d595847-6ee8-49a8-d28f-e8c88b094df8"
      },
      "execution_count": null,
      "outputs": [
        {
          "output_type": "stream",
          "name": "stdout",
          "text": [
            "134/134 [==============================] - 1s 3ms/step - loss: 0.2058 - accuracy: 0.9379\n"
          ]
        },
        {
          "output_type": "execute_result",
          "data": {
            "text/plain": [
              "[0.2058003544807434, 0.9378954768180847]"
            ]
          },
          "metadata": {},
          "execution_count": 105
        }
      ]
    },
    {
      "cell_type": "code",
      "source": [
        "cm = confusion_matrix(y_test_array, np.argmax(y_test_est, axis=1))\n",
        "\n",
        "# Display confusion matrix\n",
        "plt.imshow(cm, cmap=plt.cm.Blues)\n",
        "plt.title('Confusion Matrix')\n",
        "plt.colorbar()\n",
        "plt.xlabel('Predicted Labels')\n",
        "plt.ylabel('True Labels')\n",
        "plt.show()"
      ],
      "metadata": {
        "colab": {
          "base_uri": "https://localhost:8080/",
          "height": 480
        },
        "id": "D---k2XyCDli",
        "outputId": "3dc61cfb-4f4b-423b-d49c-dae00b5ea4ac"
      },
      "execution_count": null,
      "outputs": [
        {
          "output_type": "display_data",
          "data": {
            "text/plain": [
              "<Figure size 640x480 with 2 Axes>"
            ],
            "image/png": "[encoded data removed]"
          },
          "metadata": {}
        }
      ]
    },
    {
      "cell_type": "markdown",
      "source": [
        "### Red neuronal convolucional"
      ],
      "metadata": {
        "id": "VqlWY2uKTQQs"
      }
    },
    {
      "cell_type": "code",
      "source": [
        "conv_best_model = get_conv_model(num_classes=27, channels=1, img_size=28, filters_per_layer=[32,16,8], size_filter_per_layer=[7,5,3])"
      ],
      "metadata": {
        "colab": {
          "base_uri": "https://localhost:8080/"
        },
        "id": "wDvdHetAGgjY",
        "outputId": "4430d82b-66a1-4d4a-ebac-5582bc1a1d13"
      },
      "execution_count": null,
      "outputs": [
        {
          "output_type": "stream",
          "name": "stdout",
          "text": [
            "using 27 classes\n",
            "Entrenando modelo max_pooling = True - size_filter_per_layer = [7, 5, 3] - filters_per_layer = [32, 16, 8]\n"
          ]
        }
      ]
    },
    {
      "cell_type": "code",
      "source": [
        "conv_best_model.fit(X_train_scaled_2d, y_train_array, epochs=12)"
      ],
      "metadata": {
        "colab": {
          "base_uri": "https://localhost:8080/"
        },
        "id": "KSKfqUNUH4JQ",
        "outputId": "af74c193-efc9-4877-ab2f-dfe0af8f2278"
      },
      "execution_count": null,
      "outputs": [
        {
          "output_type": "stream",
          "name": "stdout",
          "text": [
            "Epoch 1/12\n",
            "402/402 [==============================] - 87s 209ms/step - loss: 2.2565 - accuracy: 0.3321\n",
            "Epoch 2/12\n",
            "402/402 [==============================] - 67s 166ms/step - loss: 0.5163 - accuracy: 0.8293\n",
            "Epoch 3/12\n",
            "402/402 [==============================] - 66s 164ms/step - loss: 0.2415 - accuracy: 0.9211\n",
            "Epoch 4/12\n",
            "402/402 [==============================] - 74s 184ms/step - loss: 0.1486 - accuracy: 0.9499\n",
            "Epoch 5/12\n",
            "402/402 [==============================] - 66s 165ms/step - loss: 0.1061 - accuracy: 0.9671\n",
            "Epoch 6/12\n",
            "402/402 [==============================] - 66s 164ms/step - loss: 0.0837 - accuracy: 0.9729\n",
            "Epoch 7/12\n",
            "402/402 [==============================] - 67s 166ms/step - loss: 0.0687 - accuracy: 0.9778\n",
            "Epoch 8/12\n",
            "402/402 [==============================] - 68s 168ms/step - loss: 0.0620 - accuracy: 0.9802\n",
            "Epoch 9/12\n",
            "402/402 [==============================] - 67s 167ms/step - loss: 0.0432 - accuracy: 0.9864\n",
            "Epoch 10/12\n",
            "402/402 [==============================] - 67s 166ms/step - loss: 0.0369 - accuracy: 0.9886\n",
            "Epoch 11/12\n",
            "402/402 [==============================] - 67s 166ms/step - loss: 0.0434 - accuracy: 0.9856\n",
            "Epoch 12/12\n",
            "402/402 [==============================] - 67s 167ms/step - loss: 0.0366 - accuracy: 0.9886\n"
          ]
        },
        {
          "output_type": "execute_result",
          "data": {
            "text/plain": [
              "<keras.callbacks.History at 0x7efe1cb0b820>"
            ]
          },
          "metadata": {},
          "execution_count": 79
        }
      ]
    },
    {
      "cell_type": "code",
      "source": [
        "y_test_est = conv_best_model.predict(X_test_scaled_2d)"
      ],
      "metadata": {
        "colab": {
          "base_uri": "https://localhost:8080/"
        },
        "id": "INTWJK7eIjYG",
        "outputId": "6c201394-1b1e-4fde-8614-918845814376"
      },
      "execution_count": null,
      "outputs": [
        {
          "output_type": "stream",
          "name": "stdout",
          "text": [
            "134/134 [==============================] - 4s 31ms/step\n"
          ]
        }
      ]
    },
    {
      "cell_type": "code",
      "source": [
        "cm = confusion_matrix(y_test_array, np.argmax(y_test_est, axis=1))\n",
        "\n",
        "# Display confusion matrix\n",
        "plt.imshow(cm, cmap=plt.cm.Blues)\n",
        "plt.title('Confusion Matrix')\n",
        "plt.colorbar()\n",
        "plt.xlabel('Predicted Labels')\n",
        "plt.ylabel('True Labels')\n",
        "plt.show()"
      ],
      "metadata": {
        "colab": {
          "base_uri": "https://localhost:8080/",
          "height": 480
        },
        "id": "AR2pYX9cIqYC",
        "outputId": "7fea0404-5eaa-4be6-e4d2-29b5b5599a9d"
      },
      "execution_count": null,
      "outputs": [
        {
          "output_type": "display_data",
          "data": {
            "text/plain": [
              "<Figure size 640x480 with 2 Axes>"
            ],
            "image/png": "[encoded data removed]"
          },
          "metadata": {}
        }
      ]
    },
    {
      "cell_type": "code",
      "source": [
        "conv_best_model.evaluate(X_test_scaled_2d, y_test_array)"
      ],
      "metadata": {
        "colab": {
          "base_uri": "https://localhost:8080/"
        },
        "id": "Tmz-_VyaJhif",
        "outputId": "feb9c48c-0d81-48d5-abfb-b8ce284ce71c"
      },
      "execution_count": null,
      "outputs": [
        {
          "output_type": "stream",
          "name": "stdout",
          "text": [
            "134/134 [==============================] - 8s 53ms/step - loss: 0.0350 - accuracy: 0.9873\n"
          ]
        },
        {
          "output_type": "execute_result",
          "data": {
            "text/plain": [
              "[0.035024140030145645, 0.9873447418212891]"
            ]
          },
          "metadata": {},
          "execution_count": 106
        }
      ]
    },
    {
      "cell_type": "code",
      "source": [],
      "metadata": {
        "id": "YcIG7u5CQvx6"
      },
      "execution_count": null,
      "outputs": []
    }
  ],
  "metadata": {
    "colab": {
      "provenance": []
    },
    "gpuClass": "standard",
    "kernelspec": {
      "display_name": "Python 3",
      "name": "python3"
    },
    "language_info": {
      "name": "python"
    }
  },
  "nbformat": 4,
  "nbformat_minor": 0
}